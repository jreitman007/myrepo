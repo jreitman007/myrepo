{
 "cells": [
  {
   "cell_type": "markdown",
   "metadata": {},
   "source": [
    "# COVID Project 3\n",
    "\n",
    "## Joseph Reitman jdr4855"
   ]
  },
  {
   "cell_type": "markdown",
   "metadata": {},
   "source": [
    "## Introduction\n",
    "\n",
    "The COVID-19 pandemic drastically altered the lives of citizens around the world. Numerous countries saw their healthcare systems overrun with patients as the disease has spread around the globe. From the beginning of the pandemic, countries have taken various approaches in an attempt to mitigate the effects of the pandemic.\n",
    "\n",
    "This analysis seeks to investigate the use of three mitigation strategies: testing, masks, and lockdowns. Testing, when considered as a mitigation strategy, seeks to control the spread of the disease by identifying and quarantining those who have it. Mask mandates seek to prevent the transmission of the virus between persons in publics settings through the use of protective facemass, Lockdowns are considered the most drastic measure of control the spread of disease, where movement is restricted and businesses are closed in an attempt to stop interactions between people. However, due to the extreme consequences of such measures, they are genrally considered to be a last resort in a pandemic.  \n",
    "\n",
    "This analysis looks at datasets provided by the European Centre for Disease Prevention and Control. Their website provides four datasets of interest. All datasets contain the European Countries and measurements of time. The \"Testing\" dataset provides information on testing from all countries. It provides weekly information on the amount of tests done, country population, testing rate by population, positivity rate, and amount of new cases detected. It was chosen in order to provide information on testing. The \"Measures\" dataset includes the start and end dates of various measures. It is used to provide information on active response measures during the pandemic. The \"Hosptilization\" dataset gives information on the hospital and icu admission rates in the country. It is used measure the impact of the pandemic on the healthcare system. Finally, the \"Deaths\" dataset provides information on deaths due to COVID, another measure of the impact of the pandemic on the country. This dataset is unique in that it included world data, most of which was excluded from analysis."
   ]
  },
  {
   "cell_type": "markdown",
   "metadata": {},
   "source": [
    "## EDA"
   ]
  },
  {
   "cell_type": "code",
   "execution_count": 15,
   "metadata": {},
   "outputs": [],
   "source": [
    "import numpy as np\n",
    "import pandas as pd\n",
    "import seaborn as sns\n",
    "import matplotlib.pyplot as plt"
   ]
  },
  {
   "cell_type": "code",
   "execution_count": 9,
   "metadata": {
    "scrolled": false
   },
   "outputs": [],
   "source": [
    "data = pd.read_csv('master_set_tidy.csv')"
   ]
  },
  {
   "cell_type": "code",
   "execution_count": 14,
   "metadata": {},
   "outputs": [
    {
     "data": {
      "text/plain": [
       "0.20322308905586603"
      ]
     },
     "execution_count": 14,
     "metadata": {},
     "output_type": "execute_result"
    }
   ],
   "source": [
    "np.nanmean(data.deaths_perk)"
   ]
  },
  {
   "cell_type": "markdown",
   "metadata": {},
   "source": [
    "In Europe, the mean number of deaths per 100 thousand people on a given day was .20."
   ]
  },
  {
   "cell_type": "code",
   "execution_count": 33,
   "metadata": {},
   "outputs": [
    {
     "data": {
      "text/plain": [
       "Text(0, 0.5, 'Count')"
      ]
     },
     "execution_count": 33,
     "metadata": {},
     "output_type": "execute_result"
    },
    {
     "data": {
      "image/png": "[encoded data removed]",
      "text/plain": [
       "<Figure size 432x288 with 1 Axes>"
      ]
     },
     "metadata": {
      "needs_background": "light"
     },
     "output_type": "display_data"
    }
   ],
   "source": [
    "ax = plt.hist(data.deaths_perk)\n",
    "\n",
    "plt.title(\"Histogram Deaths per 100k\")\n",
    "plt.xlabel(\"Deaths per 100k\")\n",
    "plt.ylabel(\"Count\")"
   ]
  },
  {
   "cell_type": "markdown",
   "metadata": {},
   "source": [
    "Above is a histogram of deaths per 100k. The data has a right skew."
   ]
  },
  {
   "cell_type": "code",
   "execution_count": 56,
   "metadata": {},
   "outputs": [
    {
     "data": {
      "text/plain": [
       "Country\n",
       "Austria           356\n",
       "Belgium           429\n",
       "Bulgaria          346\n",
       "Croatia           385\n",
       "Cyprus            426\n",
       "Czechia           442\n",
       "Denmark           361\n",
       "Estonia           495\n",
       "Finland           228\n",
       "France            464\n",
       "Germany           388\n",
       "Greece            127\n",
       "Hungary           338\n",
       "Iceland           350\n",
       "Ireland           854\n",
       "Italy             501\n",
       "Latvia            433\n",
       "Liechtenstein      10\n",
       "Lithuania         202\n",
       "Luxembourg        394\n",
       "Malta              88\n",
       "Netherlands       497\n",
       "Norway            389\n",
       "Poland            386\n",
       "Portugal          383\n",
       "Romania           405\n",
       "Slovakia          326\n",
       "Slovenia          426\n",
       "Spain             194\n",
       "Sweden            438\n",
       "Switzerland        10\n",
       "United Kingdom     24\n",
       "Name: Unnamed: 0, dtype: int64"
      ]
     },
     "execution_count": 56,
     "metadata": {},
     "output_type": "execute_result"
    }
   ],
   "source": [
    "count = data.groupby(\"Country\").count()\n",
    "count.iloc[:, 0]"
   ]
  },
  {
   "cell_type": "markdown",
   "metadata": {},
   "source": [
    "The countries that provided the least data were Switzerland and Liechtenstein, with only 10 observations each. The country that provided the most data was Iceland with 854."
   ]
  },
  {
   "cell_type": "code",
   "execution_count": 69,
   "metadata": {},
   "outputs": [
    {
     "data": {
      "image/png": "[encoded data removed]",
      "text/plain": [
       "<Figure size 432x288 with 1 Axes>"
      ]
     },
     "metadata": {
      "needs_background": "light"
     },
     "output_type": "display_data"
    }
   ],
   "source": [
    "count.plot.bar().get_legend().remove()"
   ]
  },
  {
   "cell_type": "markdown",
   "metadata": {},
   "source": [
    "Visual analysis of the scatterplot shows that Ice"
   ]
  }
 ],
 "metadata": {
  "kernelspec": {
   "display_name": "Python 3",
   "language": "python",
   "name": "python3"
  },
  "language_info": {
   "codemirror_mode": {
    "name": "ipython",
    "version": 3
   },
   "file_extension": ".py",
   "mimetype": "text/x-python",
   "name": "python",
   "nbconvert_exporter": "python",
   "pygments_lexer": "ipython3",
   "version": "3.8.5"
  }
 },
 "nbformat": 4,
 "nbformat_minor": 4
}
